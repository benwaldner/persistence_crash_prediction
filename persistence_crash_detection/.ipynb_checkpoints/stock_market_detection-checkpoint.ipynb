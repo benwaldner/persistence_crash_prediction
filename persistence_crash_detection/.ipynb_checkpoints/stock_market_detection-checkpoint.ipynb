{
 "cells": [
  {
   "cell_type": "markdown",
   "metadata": {},
   "source": [
    "After [Topological Data Analysis of Financial Time Series:Landscapes of Crashes](https://arxiv.org/pdf/1703.04385.pdf) : using tools for persistent homology (in particular persistence landscapes, a way to embed persistence diagrams in a Banach space) to create robust predictors of crash or regime transition times.\n",
    "\n",
    "Example on financial data : S&P 500 and EuroStoxx sectorial returns from the 1990s to nowadays."
   ]
  },
  {
   "cell_type": "code",
   "execution_count": 1,
   "metadata": {},
   "outputs": [],
   "source": [
    "import numpy as np\n",
    "import pandas as pd\n",
    "import matplotlib.pyplot as plt\n",
    "from datetime import datetime\n",
    "\n",
    "from persistence_crash_detection import *\n",
    "\n",
    "plt.style.use('dark_background')"
   ]
  },
  {
   "cell_type": "code",
   "execution_count": 2,
   "metadata": {},
   "outputs": [],
   "source": [
    "WINDOW = 100\n",
    "LENGTH_MAX = 2.0\n",
    "RESOLUTION = 100\n",
    "NBLD = 3\n",
    "DIM_MAX = 1\n",
    "\n",
    "p = 2"
   ]
  },
  {
   "cell_type": "code",
   "execution_count": 3,
   "metadata": {},
   "outputs": [],
   "source": [
    "xl_SP500 = pd.ExcelFile(\"S&P_500_sectors_clean.xlsx\")\n",
    "xl_EURO = pd.ExcelFile(\"Euro_Stoxx_sectors_clean.xlsx\")\n",
    "\n",
    "df_SP500 = pd.read_excel(xl_SP500, sheet_name = 1)\n",
    "df_EURO = pd.read_excel(xl_EURO, sheet_name = 1)\n",
    "\n",
    "date_SP500 = df_SP500['Date']\n",
    "df_SP500 = df_SP500.set_index('Date')\n",
    "\n",
    "df_EURO = df_EURO[~df_EURO.Date.isnull()]\n",
    "df_EURO = df_EURO.iloc[0:-1]\n",
    "date_EURO = df_EURO['Date']\n",
    "df_EURO = df_EURO.set_index('Date')\n",
    "\n",
    "START_DATE = datetime(1993, 1, 23)\n",
    "END_DATE = datetime(2016, 1, 23)\n",
    "\n",
    "df_SP500 = df_SP500[df_SP500.index>=START_DATE].dropna(axis=1)\n",
    "df_SP500 = df_SP500[df_SP500.index<=END_DATE].dropna(axis=1)\n",
    "df_EURO = df_EURO[df_EURO.index>=START_DATE].dropna(axis=1)\n",
    "df_EURO = df_EURO[df_EURO.index<=END_DATE].dropna(axis=1)\n",
    "\n",
    "df_SP500_index = df_SP500['SPX Index']\n",
    "df_SP500 = df_SP500.drop('SPX Index', axis=1)\n",
    "\n",
    "df_EURO_index = df_EURO['SXXT Index']\n",
    "df_EURO = df_EURO.drop('SXXT Index', axis=1)\n",
    "\n",
    "ts_SP500 = np.array(df_SP500_index.index)[1:]\n",
    "ts_EURO = np.array(df_EURO_index.index)[1:]"
   ]
  },
  {
   "cell_type": "markdown",
   "metadata": {},
   "source": [
    "### S&P 500"
   ]
  },
  {
   "cell_type": "code",
   "execution_count": 4,
   "metadata": {},
   "outputs": [],
   "source": [
    "data = np.array((np.log(df_SP500/df_SP500.shift(1))).dropna()).T"
   ]
  },
  {
   "cell_type": "code",
   "execution_count": null,
   "metadata": {},
   "outputs": [],
   "source": [
    "n = data.shape[1]\n",
    "\n",
    "norm_series = np.empty((n, DIM_MAX+1))\n",
    "\n",
    "for t in range(n):\n",
    "    for dim in range(DIM_MAX+1):\n",
    "        L, x = landscape_at_t(data, \n",
    "                              t, \n",
    "                              window=WINDOW,\n",
    "                              dim=dim,\n",
    "                              nbld=NBLD, \n",
    "                              resolution=RESOLUTION, \n",
    "                              length_max=LENGTH_MAX,\n",
    "                             )\n",
    "\n",
    "        norm_series[t, dim] = np.linalg.norm(trapz(L), ord=p)"
   ]
  },
  {
   "cell_type": "code",
   "execution_count": null,
   "metadata": {},
   "outputs": [],
   "source": [
    "fig, axes = plt.subplots(figsize=(11, 9), nrows=DIM_MAX+2, ncols=1)\n",
    "\n",
    "ax = axes[0]\n",
    "df_SP500_index.plot(kind='line', ax=ax)\n",
    "ax.set_title('S&P 500')\n",
    "\n",
    "for i in range(DIM_MAX+1):\n",
    "    ax = axes[i+1]\n",
    "    ax.plot(ts_SP500, norm_series[:, i])\n",
    "    ax.set_title('{}-norm of the integrated {}-persistence landscapes through time'.format(p, dim))\n",
    "plt.tight_layout()\n",
    "plt.show()"
   ]
  },
  {
   "cell_type": "code",
   "execution_count": null,
   "metadata": {},
   "outputs": [],
   "source": [
    "data = np.array((np.log(df_EURO/df_EURO.shift(1))).dropna()).T"
   ]
  },
  {
   "cell_type": "code",
   "execution_count": null,
   "metadata": {},
   "outputs": [],
   "source": [
    "n = data.shape[1]\n",
    "\n",
    "norm_series = np.empty((n, DIM_MAX+1))\n",
    "\n",
    "for t in range(n):\n",
    "    for dim in range(DIM_MAX+1):\n",
    "        L, x = landscape_at_t(data, \n",
    "                              t, \n",
    "                              window=WINDOW,\n",
    "                              dim=dim,\n",
    "                              nbld=NBLD, \n",
    "                              resolution=RESOLUTION, \n",
    "                              length_max=LENGTH_MAX,\n",
    "                             )\n",
    "\n",
    "        norm_series[t, dim] = np.linalg.norm(trapz(L), ord=p)"
   ]
  },
  {
   "cell_type": "code",
   "execution_count": null,
   "metadata": {},
   "outputs": [],
   "source": [
    "fig, axes = plt.subplots(figsize=(11, 9), nrows=DIM_MAX+2, ncols=1)\n",
    "\n",
    "ax = axes[0]\n",
    "df_SP500_index.plot(kind='line', ax=ax)\n",
    "ax.set_title('EuroStoxx')\n",
    "\n",
    "for i in range(DIM_MAX+1):\n",
    "    ax = axes[i+1]\n",
    "    ax.plot(ts_EURO, norm_series[:, i])\n",
    "    ax.set_title('{}-norm of the integrated {}-persistence landscapes through time'.format(p, dim))\n",
    "plt.tight_layout()\n",
    "plt.show()"
   ]
  },
  {
   "cell_type": "code",
   "execution_count": null,
   "metadata": {},
   "outputs": [],
   "source": []
  }
 ],
 "metadata": {
  "kernelspec": {
   "display_name": "Python 3",
   "language": "python",
   "name": "python3"
  },
  "language_info": {
   "codemirror_mode": {
    "name": "ipython",
    "version": 3
   },
   "file_extension": ".py",
   "mimetype": "text/x-python",
   "name": "python",
   "nbconvert_exporter": "python",
   "pygments_lexer": "ipython3",
   "version": "3.7.4"
  }
 },
 "nbformat": 4,
 "nbformat_minor": 2
}
